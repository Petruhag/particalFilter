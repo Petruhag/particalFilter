{
 "cells": [
  {
   "cell_type": "code",
   "execution_count": 22,
   "metadata": {},
   "outputs": [
    {
     "name": "stdout",
     "output_type": "stream",
     "text": [
      "6833.885181794172\n",
      "46701986.67791794\n"
     ]
    }
   ],
   "source": [
    "from matplotlib import pyplot\n",
    "import numpy as np\n",
    "import math\n",
    "\n",
    "def Mon (q,n):\n",
    "        return q**n\n",
    "def RealF (ct,pt,mt):\n",
    "    qs=0\n",
    "    for i in range (mt+1):\n",
    "        qs=qs+Mon(pt,i)*ct[i]\n",
    "    return qs\n",
    "\n",
    "def houseHolder2(m):    \n",
    "    l = len(m)\n",
    "   # print (l)\n",
    "    for i in range(0, l - 1):\n",
    "        I = np.eye(l - i)\n",
    "        ai = m[:, i] \n",
    "        abs1 = np.linalg.norm(ai[i:l]) \n",
    "        sign = np.sign(m[i, i])\n",
    "        vi = np.array([ai[i:l]]).T + sign * abs1 * np.array([I[:, 0]]).T\n",
    "        Qi = I - 2 * (vi @ vi.T) / (vi.T @ vi)\n",
    "        J = np.eye(l)\n",
    "        J[i:l, i:l] = Qi\n",
    "        m = J@m\n",
    "    return m \n",
    "    \n",
    "N=3\n",
    "x=[]\n",
    "y=[]\n",
    "xxx=[]\n",
    "yyy=[]\n",
    "toch=[]\n",
    "toch1=[]\n",
    "toc=[]\n",
    "toc1=[]\n",
    "c=[]\n",
    "F=[]\n",
    "fx=[]\n",
    "with open('experiment_2.txt') as Data:\n",
    "    for line in Data:\n",
    "        a, b = line.split()\n",
    "        x.append(float(a))\n",
    "        y.append(float(b))\n",
    "M=len(x)\n",
    "toch=np.zeros(20)\n",
    "toch1=np.zeros(20)\n",
    "toc=np.zeros(5)\n",
    "toc1=np.zeros(5)\n",
    "xxx=np.zeros(1076)\n",
    "yyy=np.zeros(1076)\n",
    "A=np.zeros((M,N+1))\n",
    "AT=np.zeros((N+1,M))\n",
    "B=np.zeros((N+1,N+1))# B*x = AT*A*x = AT*y = F\n",
    "F=np.zeros((N+1,1))\n",
    "I=np.zeros((N+1,N+1))\n",
    "w=0\n",
    "for i in range (N+1):\n",
    "    I[i,i]=1 \n",
    "for i in range(M):\n",
    "    if (i % 269 == 0):\n",
    "        toch[w]=x[i]\n",
    "        toch1[w]=y[i]\n",
    "        w=w+1\n",
    "    for j in range (N+1):\n",
    "        A[i,j]=Mon(x[i],j)\n",
    "        AT[j,i]=Mon(x[i],j)\n",
    "            \n",
    "B=AT@A\n",
    "F=AT@y\n",
    "print(np.linalg.cond(A))\n",
    "print(np.linalg.cond(B))\n",
    "#print(toch)\n",
    "#print(M)\n"
   ]
  },
  {
   "cell_type": "code",
   "execution_count": 23,
   "metadata": {},
   "outputs": [
    {
     "data": {
      "text/plain": [
       "(array([[5.38000000e+03, 5.45806630e+02, 7.33271844e+01, 1.10698545e+01],\n",
       "        [5.45806630e+02, 7.33271844e+01, 1.10698545e+01, 1.78222883e+00],\n",
       "        [7.33271844e+01, 1.10698545e+01, 1.78222883e+00, 2.98881947e-01],\n",
       "        [1.10698545e+01, 1.78222883e+00, 2.98881947e-01, 5.15546681e-02]]),\n",
       " array([1838413.069519  ,  244230.33252478,   36610.00320109,\n",
       "           5865.87250888]))"
      ]
     },
     "execution_count": 23,
     "metadata": {},
     "output_type": "execute_result"
    }
   ],
   "source": [
    "#B,F"
   ]
  },
  {
   "cell_type": "code",
   "execution_count": 24,
   "metadata": {},
   "outputs": [
    {
     "data": {
      "text/plain": [
       "array([[-5.40812392e+03, -5.50522442e+02, -7.40878450e+01,\n",
       "        -1.11963145e+01],\n",
       "       [-1.62223065e-14, -1.82349281e+01, -3.69757599e+00,\n",
       "        -6.72547192e-01],\n",
       "       [ 6.96087675e-16, -4.77956823e-16, -4.97570000e-02,\n",
       "        -1.50901618e-02],\n",
       "       [-9.94158440e-16, -1.34963909e-16,  1.11762285e-18,\n",
       "         1.21679794e-04]])"
      ]
     },
     "execution_count": 24,
     "metadata": {},
     "output_type": "execute_result"
    }
   ],
   "source": [
    "#Хаусхолдер\n",
    "l=N+1\n",
    "for i in range(N):\n",
    "    I = np.eye(l - i)\n",
    "    ai = B[:, i] \n",
    "    abs1 = np.linalg.norm(ai[i:l]) \n",
    "    vi = np.array([ai[i:l]]).T + abs1 * np.array([I[:, 0]]).T\n",
    "    Qi = I - 2 * (vi @ vi.T) / (vi.T @ vi)\n",
    "    J = np.eye(l)\n",
    "    J[i:l, i:l] = Qi\n",
    "    B= J@B\n",
    "    F=J@F\n",
    "\n",
    "for i in range (N+1):\n",
    "    c.append(0)\n",
    "    for j in range (N+1):\n",
    "        if abs(B[i,j])- 0.000000000000000001 <0:\n",
    "            B[i,j]=0\n",
    "#B"
   ]
  },
  {
   "cell_type": "code",
   "execution_count": 25,
   "metadata": {},
   "outputs": [
    {
     "data": {
      "text/plain": [
       "[-1.4183319264736283,\n",
       " 3716.5508436373016,\n",
       " -2525.9371747788573,\n",
       " 248.01263032092467]"
      ]
     },
     "execution_count": 25,
     "metadata": {},
     "output_type": "execute_result"
    }
   ],
   "source": [
    "#Обратный ход Гаусса (correct)\n",
    "c[N]=F[N]/B[N,N]\n",
    "for i in range (N-1,-1,-1):\n",
    "    c[i]=F[i]\n",
    "    for j in range (i,N):\n",
    "        c[i]=c[i]-B[i,j+1]*c[j+1]\n",
    "    c[i]=c[i]/B[i,i]    \n",
    "c"
   ]
  },
  {
   "cell_type": "code",
   "execution_count": 26,
   "metadata": {},
   "outputs": [
    {
     "data": {
      "text/plain": [
       "[<matplotlib.lines.Line2D at 0x7f7538316760>]"
      ]
     },
     "execution_count": 26,
     "metadata": {},
     "output_type": "execute_result"
    },
    {
     "data": {
      "image/png": "[encoded data removed]",
      "text/plain": [
       "<Figure size 432x288 with 1 Axes>"
      ]
     },
     "metadata": {
      "needs_background": "light"
     },
     "output_type": "display_data"
    }
   ],
   "source": [
    "#График\n",
    "fx.clear()\n",
    "for i in range(M):\n",
    "    fx.append(RealF(c,x[i],N))\n",
    "pyplot.plot(x, y, 'r') # plotting t, a separately \n",
    "pyplot.plot(x, fx, 'b') # plotting t, b separately \n",
    "pyplot.plot(toch, toch1, 'ro')\n",
    "\n",
    "#w=0\n",
    "#for i in range(200):\n",
    "    #xxx[i]=x[i]\n",
    "    #yyy[i]=y[i]\n",
    "    #if (i+1 % 50 == 0):\n",
    "        #toc[w]=x[i]\n",
    "        #toc1[w]=fx[i]\n",
    "        #w=w+1    \n",
    "#pyplot.plot(xxx, yyy, 'g')\n",
    "#pyplot.plot(toc, toc1, 'ro')\n",
    "#pyplot.show()\n"
   ]
  },
  {
   "cell_type": "code",
   "execution_count": 27,
   "metadata": {},
   "outputs": [
    {
     "data": {
      "text/plain": [
       "0.0006693545669428071"
      ]
     },
     "execution_count": 27,
     "metadata": {},
     "output_type": "execute_result"
    }
   ],
   "source": [
    "# Норма SME (correct)\n",
    "z=0\n",
    "for i in range (M):\n",
    "    z=z+abs(y[i]-fx[i])**2\n",
    "z=math.sqrt(z/M)/max(y)\n",
    "z"
   ]
  },
  {
   "cell_type": "code",
   "execution_count": 28,
   "metadata": {},
   "outputs": [],
   "source": [
    "def Hol(n):\n",
    "    yy=np.zeros(n+1)\n",
    "    b=np.zeros(M)\n",
    "    bm=np.zeros(n+1)\n",
    "    for i in range(M):\n",
    "        b[i]=y[i]\n",
    "\n",
    "    C=np.zeros((n+1,M))\n",
    "    C=A.T\n",
    "    U=np.zeros((n+1,n+1))\n",
    "    U=C@A\n",
    "    co=0\n",
    "    bm=C@b#//меняем вектор b\n",
    "#r=cond(U)//Число обусловленности AtA\n",
    "    R=np.zeros((n+1,n+1))\n",
    "    R=np.linalg.cholesky(U)#//находим верхнетреугольную матрицу из разложения Холесского\n",
    "    bm=np.linalg.inv(R)@bm#////меняем вектор b\n",
    "#print(bm.size)\n",
    "    yy[n]=bm[n]/R.T[n,n]#//Обратный ход метода Гаусса\n",
    "\n",
    "    yy[n]=bm[n]/R.T[n,n]\n",
    "    for i in range (n-1,-1,-1):\n",
    "        yy[i]=bm[i]\n",
    "        for j in range (i,n):\n",
    "            yy[i]=yy[i]-R.T[i,j+1]*yy[j+1]\n",
    "        yy[i]=yy[i]/R.T[i,i]\n",
    "\n",
    "    fx.clear()\n",
    "    for i in range(M):\n",
    "        fx.append(RealF(yy,x[i],n))\n",
    "    z=0\n",
    "    for i in range (M):\n",
    "        z=z+abs(y[i]-fx[i])**2\n",
    "    z=math.sqrt(z/M)/max(y)\n",
    "\n",
    "    print(z)\n",
    "    pyplot.plot(x, y, 'r') # plotting t, a separately\n",
    "    pyplot.plot(x, fx, 'b') # plotting t, b separately\n",
    "    pyplot.show()\n",
    "\n"
   ]
  },
  {
   "cell_type": "code",
   "execution_count": 29,
   "metadata": {},
   "outputs": [
    {
     "name": "stdout",
     "output_type": "stream",
     "text": [
      "0.0006693545669428089\n"
     ]
    },
    {
     "data": {
      "image/png": "[encoded data removed]",
      "text/plain": [
       "<Figure size 432x288 with 1 Axes>"
      ]
     },
     "metadata": {
      "needs_background": "light"
     },
     "output_type": "display_data"
    }
   ],
   "source": [
    "Hol(3)\n"
   ]
  }
 ],
 "metadata": {
  "kernelspec": {
   "display_name": "Python 3",
   "language": "python",
   "name": "python3"
  },
  "language_info": {
   "codemirror_mode": {
    "name": "ipython",
    "version": 3
   },
   "file_extension": ".py",
   "mimetype": "text/x-python",
   "name": "python",
   "nbconvert_exporter": "python",
   "pygments_lexer": "ipython3",
   "version": "3.8.3"
  }
 },
 "nbformat": 4,
 "nbformat_minor": 4
}
