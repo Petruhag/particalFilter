{
 "cells": [
  {
   "cell_type": "code",
   "execution_count": 2,
   "metadata": {},
   "outputs": [],
   "source": [
    "import numpy as np\n",
    "from numpy import *\n",
    "from numpy.linalg import qr"
   ]
  },
  {
   "cell_type": "code",
   "execution_count": 53,
   "metadata": {},
   "outputs": [],
   "source": [
    "N=20\n",
    "M=4\n",
    "X=np.zeros([N,M+1])\n",
    "x0=np.ones(N)\n",
    "x1=np.zeros(N)\n",
    "x2=np.zeros(N)\n",
    "x3=np.zeros(N)\n",
    "x4=np.zeros(N)\n",
    "y=np.zeros(N)\n",
    "x1=np.array([10,11.3,12.6,11.7,14.8,12.5,15.6,17.8,15.4,13.7,12.4,16.2,13.7,11.5,9.4,16.3,17.2,13.1,11.3,14.5])\n",
    "x2=np.array([3.2,4.2,1.9,2.1,3.4,2.5,2.1,1.3,2.9,1.1,3.2,2.4,3.2,3.9,1.3,2.1,4.1,1.7,2.1,2.3])\n",
    "x3=np.array([8,9.2,8.2,9.5,7.4,8.4,9.1,10.2,9.9,8.9,7.8,10.3,9.5,9.1,8.5,9.4,8.9,10.3,8.9,9.1])\n",
    "x4=np.array([24.2,30.2,16.4,17.6,25.4,20,17.6,12.8,22.4,11.6,24.2,19.4,24.2,28.4,12.8,17.6,29.6,15.2,17.6,18.8])\n",
    "y=np.array([140.8,214.6,136,164,183.9,150.2,148.3,192.8,210.8,151.3,195.7,194.9,184.8,150.5,116.3,208.7,217.7,163.6,182,184.4])\n",
    "for i in range(N):\n",
    "    y[i]=y[i]+5\n",
    "for i in range(N):\n",
    "    X[i][0]=x0[i]\n",
    "    X[i][1]=x1[i]\n",
    "    X[i][2]=x2[i]\n",
    "    X[i][3]=x3[i]\n",
    "    X[i][4]=x4[i]\n",
    "A=dot(X.T,X)\n",
    "B=dot(X.T,y)\n",
    "QR = qr(A)\n",
    "Q = QR[0]\n",
    "R = QR[1]\n",
    "u = dot(Q.T,B)\n",
    "b = linalg.solve(R, u)\n",
    "b1=dot(linalg.inv(A),B)\n",
    "b2=linalg.solve(A, B)"
   ]
  },
  {
   "cell_type": "code",
   "execution_count": 61,
   "metadata": {},
   "outputs": [
    {
     "name": "stdout",
     "output_type": "stream",
     "text": [
      "[-270.58681556    6.33237778 -269.90574185    9.0231572    47.83884871]\n",
      "[416.         -28.97514719 -64.           9.0231572    0.        ]\n",
      "[-76.75355397   6.33237778 -37.30582793   9.0231572    9.07219639]\n",
      "[ 13.12398472 -24.48878511  13.92724286  -4.6163227   -1.56902616\n",
      "  11.17504677  32.17068777  -2.17448851 -10.6753817   -1.79281186\n",
      " -28.38294004   5.33610821   6.08851832  34.8371696    5.79417088\n",
      " -21.08970062   5.3525616    5.0165918  -30.56316813  -7.46945771]\n",
      "[ 13.12398472 -24.48878511  13.92724286  -4.6163227   -1.56902616\n",
      "  11.17504677  32.17068777  -2.17448851 -10.6753817   -1.79281186\n",
      " -28.38294004   5.33610821   6.08851832  34.8371696    5.79417088\n",
      " -21.08970062   5.3525616    5.0165918  -30.56316813  -7.46945771]\n"
     ]
    }
   ],
   "source": [
    "print(b)\n",
    "print(b1)\n",
    "print(b2)\n",
    "y1=dot(X,b2)\n",
    "print((dot(X,b)-y))\n",
    "print((dot(X,b2)-y))\n",
    "s=0\n",
    "for i in range(N):\n",
    "    s=s+y[i]-y1[i]\n",
    "s=s/N"
   ]
  },
  {
   "cell_type": "code",
   "execution_count": 62,
   "metadata": {},
   "outputs": [
    {
     "data": {
      "text/plain": [
       "2.2737367544323207e-14"
      ]
     },
     "execution_count": 62,
     "metadata": {},
     "output_type": "execute_result"
    }
   ],
   "source": [
    "s"
   ]
  },
  {
   "cell_type": "code",
   "execution_count": 9,
   "metadata": {},
   "outputs": [],
   "source": [
    "K = 5\n",
    "N = 4\n",
    "eps = 1E-12"
   ]
  },
  {
   "cell_type": "code",
   "execution_count": 10,
   "metadata": {},
   "outputs": [],
   "source": [
    "h = 1/(2*K)\n",
    "k_c = h**4\n",
    "A = zeros((N+5, N+1), dtype=float64)\n",
    "b = zeros(N+5, dtype=float64)\n",
    "def mon(x,i):\n",
    "    return x**i\n",
    "def f_x(x):\n",
    "    return exp(x)*(-12+x*(32+x*(7+x)**2))"
   ]
  },
  {
   "cell_type": "code",
   "execution_count": 11,
   "metadata": {},
   "outputs": [],
   "source": [
    "def an(x):\n",
    "    return exp(x)*x**2*(1-x)**2"
   ]
  },
  {
   "cell_type": "code",
   "execution_count": 12,
   "metadata": {},
   "outputs": [],
   "source": [
    "def num(coeff_new, j, y):\n",
    "    x_c = 2*h*(2*j+1)/2\n",
    "    x = (y-x_c)/h\n",
    "    return coeff_new[0]+coeff_new[1]*mon(x,1)+coeff_new[2]*mon(x,2)+coeff_new[3]*mon(x,3)+coeff_new[4]*mon(x,4)\n",
    "    #return coeff_new[0]+coeff_new[1]*x+coeff_new[2]*(2*x*x-1)+coeff_new[3]*(4*x*x*x-3*x)+coeff_new[4]*(8*x*x*x*x-8*x*x+1)"
   ]
  },
  {
   "cell_type": "code",
   "execution_count": 13,
   "metadata": {
    "scrolled": true
   },
   "outputs": [
    {
     "name": "stdout",
     "output_type": "stream",
     "text": [
      "1\n",
      "2\n",
      "3\n",
      "4\n",
      "5\n",
      "6\n",
      "7\n",
      "8\n",
      "9\n",
      "10\n",
      "11\n",
      "12\n",
      "13\n",
      "14\n",
      "15\n",
      "16\n",
      "17\n",
      "18\n",
      "19\n",
      "20\n",
      "21\n",
      "22\n",
      "23\n",
      "24\n",
      "25\n",
      "26\n",
      "27\n",
      "28\n",
      "29\n",
      "30\n",
      "31\n",
      "32\n",
      "33\n",
      "34\n",
      "35\n",
      "36\n",
      "37\n",
      "38\n",
      "39\n",
      "40\n",
      "41\n",
      "42\n",
      "43\n",
      "44\n",
      "45\n",
      "46\n",
      "47\n",
      "48\n",
      "49\n",
      "50\n",
      "51\n",
      "52\n",
      "53\n",
      "54\n",
      "55\n",
      "56\n",
      "57\n",
      "58\n",
      "59\n",
      "60\n",
      "61\n",
      "62\n",
      "63\n",
      "64\n",
      "65\n",
      "66\n",
      "67\n",
      "68\n",
      "69\n",
      "70\n",
      "71\n",
      "72\n",
      "73\n",
      "K: 5 \n",
      "error_abs: 0.00468 \n",
      "error_rel: 0.04399 \n",
      "iterations: 73\n"
     ]
    }
   ],
   "source": [
    "iter = 0\n",
    "coeff_new = ones((K,N+1))*0.4\n",
    "coeff = zeros((K,N+1))\n",
    "while np.max(abs(coeff_new - coeff)) > eps:\n",
    "    iter += 1\n",
    "    coeff = copy(coeff_new)\n",
    "    for j in arange(K):\n",
    "        x_c = 2*h*(2*j+1)/2\n",
    "        points = (linspace(2*h*j, 2*h*(j+1), num=N+3) - x_c) / h\n",
    "        for i in arange(N+1):\n",
    "            A[i,0]=0\n",
    "            A[i,1]=0\n",
    "            A[i,2]=0\n",
    "            A[i,3]=0\n",
    "            A[i,4]=24\n",
    "\n",
    "            b[0]=k_c*f_x(points[1]*h+x_c)\n",
    "            b[1]=k_c*f_x(points[2]*h+x_c)\n",
    "            b[2]=k_c*f_x(points[3]*h+x_c)\n",
    "            b[3]=k_c*f_x(points[4]*h+x_c)\n",
    "            b[4]=k_c*f_x(points[5]*h+x_c)\n",
    "\n",
    "        if j == 0:\n",
    "            A[N+1,0]=1\n",
    "            A[N+1,1]=-1\n",
    "            A[N+1,2]=1\n",
    "            A[N+1,3]=-1\n",
    "            A[N+1,4]=1\n",
    "\n",
    "            A[N+2,0]=0\n",
    "            A[N+2,1]=1\n",
    "            A[N+2,2]=-2\n",
    "            A[N+2,3]=3\n",
    "            A[N+2,4]=-4\n",
    "\n",
    "            A[N+3,0]=1\n",
    "            A[N+3,1]=2\n",
    "            A[N+3,2]=3\n",
    "            A[N+3,3]=4\n",
    "            A[N+3,4]=5\n",
    "\n",
    "            A[N+4,0]=0\n",
    "            A[N+4,1]=0\n",
    "            A[N+4,2]=2\n",
    "            A[N+4,3]=12\n",
    "            A[N+4,4]=36\n",
    "            \n",
    "            b[N+1]=0\n",
    "            b[N+2]=0\n",
    "            b[N+3]=coeff[j+1,0] - coeff[j+1,2] + 2*coeff[j+1,3] - 3*coeff[j+1,4]\n",
    "            b[N+4]=2*coeff[j+1,2] - 12*coeff[j+1,4]\n",
    "        if j == K-1:\n",
    "            A[N+1,0]=1\n",
    "            A[N+1,1]=-2\n",
    "            A[N+1,2]=3\n",
    "            A[N+1,3]=-4\n",
    "            A[N+1,4]=5\n",
    "\n",
    "            A[N+2,0]=0\n",
    "            A[N+2,1]=0\n",
    "            A[N+2,2]=2\n",
    "            A[N+2,3]=-12\n",
    "            A[N+2,4]=36\n",
    "\n",
    "            A[N+3,0]=1\n",
    "            A[N+3,1]=1\n",
    "            A[N+3,2]=1\n",
    "            A[N+3,3]=1\n",
    "            A[N+3,4]=1\n",
    "\n",
    "            A[N+4,0]=0\n",
    "            A[N+4,1]=1\n",
    "            A[N+4,2]=2\n",
    "            A[N+4,3]=3\n",
    "            A[N+4,4]=4\n",
    "            \n",
    "            b[N+1]=coeff_new[j-1,0] - coeff_new[j-1,2] - 2*coeff_new[j-1,3] - 3*coeff_new[j-1,4]\n",
    "            b[N+2]=2*coeff_new[j-1,2] - 12*coeff_new[j-1,4]\n",
    "            b[N+3]=0\n",
    "            b[N+4]=0\n",
    "        if 0 < j < K-1:\n",
    "            A[N+1,0]=1\n",
    "            A[N+1,1]=-2\n",
    "            A[N+1,2]=3\n",
    "            A[N+1,3]=-4\n",
    "            A[N+1,4]=5\n",
    "\n",
    "            A[N+2,0]=0\n",
    "            A[N+2,1]=0\n",
    "            A[N+2,2]=2\n",
    "            A[N+2,3]=-12\n",
    "            A[N+2,4]=36\n",
    "\n",
    "            A[N+3,0]=1\n",
    "            A[N+3,1]=2\n",
    "            A[N+3,2]=3\n",
    "            A[N+3,3]=4\n",
    "            A[N+3,4]=5\n",
    "\n",
    "            A[N+4,0]=0\n",
    "            A[N+4,1]=0\n",
    "            A[N+4,2]=2\n",
    "            A[N+4,3]=12\n",
    "            A[N+4,4]=36\n",
    "\n",
    "            b[N+1]=coeff_new[j-1,0]-coeff_new[j-1,2]-2*coeff_new[j-1,3]-3*coeff_new[j-1,4]\n",
    "            b[N+2]=2*coeff_new[j-1,2]-12*coeff_new[j-1,4]\n",
    "            b[N+3]=coeff[j+1,0] - coeff[j+1,2] + 2*coeff[j+1,3] - 3*coeff[j+1,4]\n",
    "            b[N+4]=2*coeff[j+1,2] - 12*coeff[j+1,4]\n",
    "\n",
    "        QR = qr(A)\n",
    "        Q = QR[0]\n",
    "        R = QR[1]\n",
    "        y = dot(Q.T,b)\n",
    "        coeff_new[j,:] = linalg.solve(R, y)\n",
    "        \n",
    "    print(iter)\n",
    "    \n",
    "error_abs = max(array([max(abs(an(linspace(2*h*j, 2*h*(j+1), num=100)) - num(coeff_new[j,:], j, linspace(2*h*j, 2*h*(j+1), num=100)))) for j in arange(K)]))\n",
    "error_rel = error_abs / (max(array([max(abs(an(linspace(2*h*j, 2*h*(j+1), num=100)))) for j in arange(K)])))\n",
    "print('K:', K, \n",
    "      '\\nerror_abs:', around(error_abs, decimals=5),\n",
    "     '\\nerror_rel:', around(error_rel, decimals=5),\n",
    "     '\\niterations:', iter)"
   ]
  },
  {
   "cell_type": "code",
   "execution_count": 14,
   "metadata": {
    "scrolled": false
   },
   "outputs": [
    {
     "ename": "NameError",
     "evalue": "name 'go' is not defined",
     "output_type": "error",
     "traceback": [
      "\u001b[0;31m---------------------------------------------------------------------------\u001b[0m",
      "\u001b[0;31mNameError\u001b[0m                                 Traceback (most recent call last)",
      "\u001b[0;32m<ipython-input-14-6edd01d5356d>\u001b[0m in \u001b[0;36m<module>\u001b[0;34m\u001b[0m\n\u001b[1;32m      5\u001b[0m \u001b[0mdata_num\u001b[0m \u001b[0;34m=\u001b[0m \u001b[0mndarray\u001b[0m\u001b[0;34m.\u001b[0m\u001b[0mflatten\u001b[0m\u001b[0;34m(\u001b[0m\u001b[0mdata_num\u001b[0m\u001b[0;34m)\u001b[0m\u001b[0;34m\u001b[0m\u001b[0;34m\u001b[0m\u001b[0m\n\u001b[1;32m      6\u001b[0m \u001b[0;34m\u001b[0m\u001b[0m\n\u001b[0;32m----> 7\u001b[0;31m \u001b[0mfig\u001b[0m \u001b[0;34m=\u001b[0m \u001b[0mgo\u001b[0m\u001b[0;34m.\u001b[0m\u001b[0mFigure\u001b[0m\u001b[0;34m(\u001b[0m\u001b[0;34m)\u001b[0m\u001b[0;34m\u001b[0m\u001b[0;34m\u001b[0m\u001b[0m\n\u001b[0m\u001b[1;32m      8\u001b[0m fig.add_trace(\n\u001b[1;32m      9\u001b[0m     go.Scattergl(\n",
      "\u001b[0;31mNameError\u001b[0m: name 'go' is not defined"
     ]
    }
   ],
   "source": [
    "data_an = array([an(linspace(2*h*j, 2*h*(j+1), num=100)) for j in arange(K)])\n",
    "data_an = ndarray.flatten(data_an)\n",
    "\n",
    "data_num = array([num(coeff_new[j,:], j, linspace(2*h*j, 2*h*(j+1), num=100)) for j in arange(K)])\n",
    "data_num = ndarray.flatten(data_num)\n",
    "\n",
    "fig = go.Figure()\n",
    "fig.add_trace(\n",
    "    go.Scattergl(\n",
    "        x=linspace(0, 1, num=data_an.size), \n",
    "        y=data_an,\n",
    "        name=\"Analytical\"\n",
    "    )\n",
    ")\n",
    "\n",
    "fig.add_trace(\n",
    "    go.Scattergl(\n",
    "        x=linspace(0, 1, num=data_num.size),\n",
    "        y=data_num,\n",
    "        name=\"Numerical\"\n",
    "    )\n",
    ")\n",
    "fig.show()"
   ]
  },
  {
   "cell_type": "code",
   "execution_count": 181,
   "metadata": {},
   "outputs": [
    {
     "data": {
      "text/plain": [
       "69.76539"
      ]
     },
     "execution_count": 181,
     "metadata": {},
     "output_type": "execute_result"
    }
   ],
   "source": [
    "###  Гриничная ячейка\n",
    "for i in arange(N+1):\n",
    "    A[i,0]=0\n",
    "    A[i,1]=0\n",
    "    A[i,2]=0\n",
    "    A[i,3]=0\n",
    "    A[i,4]=24\n",
    "    \n",
    "    A[N+1,0]=1\n",
    "    A[N+1,1]=-1\n",
    "    A[N+1,2]=1\n",
    "    A[N+1,3]=-1\n",
    "    A[N+1,4]=1\n",
    "\n",
    "    A[N+2,0]=0\n",
    "    A[N+2,1]=1\n",
    "    A[N+2,2]=-2\n",
    "    A[N+2,3]=3\n",
    "    A[N+2,4]=-4\n",
    "\n",
    "    A[N+3,0]=1\n",
    "    A[N+3,1]=2\n",
    "    A[N+3,2]=3\n",
    "    A[N+3,3]=4\n",
    "    A[N+3,4]=5\n",
    "\n",
    "    A[N+4,0]=0\n",
    "    A[N+4,1]=0\n",
    "    A[N+4,2]=2\n",
    "    A[N+4,3]=12\n",
    "    A[N+4,4]=36\n",
    "    \n",
    "around(linalg.cond(A), decimals=5)"
   ]
  },
  {
   "cell_type": "code",
   "execution_count": 182,
   "metadata": {},
   "outputs": [
    {
     "data": {
      "text/plain": [
       "121.05375"
      ]
     },
     "execution_count": 182,
     "metadata": {},
     "output_type": "execute_result"
    }
   ],
   "source": [
    "###  Внутренняя ячейка\n",
    "for i in arange(N+1):\n",
    "    A[i,0]=0\n",
    "    A[i,1]=0\n",
    "    A[i,2]=0\n",
    "    A[i,3]=0\n",
    "    A[i,4]=24\n",
    "    \n",
    "    A[N+1,0]=1\n",
    "    A[N+1,1]=-2\n",
    "    A[N+1,2]=3\n",
    "    A[N+1,3]=-4\n",
    "    A[N+1,4]=5\n",
    "\n",
    "    A[N+2,0]=0\n",
    "    A[N+2,1]=0\n",
    "    A[N+2,2]=2\n",
    "    A[N+2,3]=-12\n",
    "    A[N+2,4]=36\n",
    "\n",
    "    A[N+3,0]=1\n",
    "    A[N+3,1]=2\n",
    "    A[N+3,2]=3\n",
    "    A[N+3,3]=4\n",
    "    A[N+3,4]=5\n",
    "\n",
    "    A[N+4,0]=0\n",
    "    A[N+4,1]=0\n",
    "    A[N+4,2]=2\n",
    "    A[N+4,3]=12\n",
    "    A[N+4,4]=36\n",
    "    \n",
    "around(linalg.cond(A), decimals=5)"
   ]
  },
  {
   "cell_type": "code",
   "execution_count": 227,
   "metadata": {},
   "outputs": [
    {
     "data": {
      "text/plain": [
       "-2.05019"
      ]
     },
     "execution_count": 227,
     "metadata": {},
     "output_type": "execute_result"
    }
   ],
   "source": [
    "around(log2(0.00113 / 0.00468), decimals=5)"
   ]
  },
  {
   "cell_type": "code",
   "execution_count": 228,
   "metadata": {},
   "outputs": [
    {
     "data": {
      "text/plain": [
       "-2.01282"
      ]
     },
     "execution_count": 228,
     "metadata": {},
     "output_type": "execute_result"
    }
   ],
   "source": [
    "around(log2(0.00028 / 0.00113), decimals=5)"
   ]
  },
  {
   "cell_type": "code",
   "execution_count": 229,
   "metadata": {},
   "outputs": [
    {
     "data": {
      "text/plain": [
       "-1.99889"
      ]
     },
     "execution_count": 229,
     "metadata": {},
     "output_type": "execute_result"
    }
   ],
   "source": [
    "around(log2(7.0054e-05 / 0.00028), decimals=5)"
   ]
  },
  {
   "cell_type": "code",
   "execution_count": 230,
   "metadata": {},
   "outputs": [
    {
     "data": {
      "text/plain": [
       "-2.00119"
      ]
     },
     "execution_count": 230,
     "metadata": {},
     "output_type": "execute_result"
    }
   ],
   "source": [
    "around(log2(1.7499e-05 / 7.0054e-05), decimals=5)"
   ]
  },
  {
   "cell_type": "code",
   "execution_count": 231,
   "metadata": {},
   "outputs": [
    {
     "data": {
      "text/plain": [
       "-2.04362"
      ]
     },
     "execution_count": 231,
     "metadata": {},
     "output_type": "execute_result"
    }
   ],
   "source": [
    "around(log2(0.01067 / 0.04399), decimals=5)"
   ]
  },
  {
   "cell_type": "code",
   "execution_count": 232,
   "metadata": {},
   "outputs": [
    {
     "data": {
      "text/plain": [
       "-2.01495"
      ]
     },
     "execution_count": 232,
     "metadata": {},
     "output_type": "execute_result"
    }
   ],
   "source": [
    "around(log2(0.00264 / 0.01067), decimals=5)"
   ]
  },
  {
   "cell_type": "code",
   "execution_count": 233,
   "metadata": {},
   "outputs": [
    {
     "data": {
      "text/plain": [
       "-2.0"
      ]
     },
     "execution_count": 233,
     "metadata": {},
     "output_type": "execute_result"
    }
   ],
   "source": [
    "around(log2(0.00066 / 0.00264), decimals=5)"
   ]
  },
  {
   "cell_type": "code",
   "execution_count": 234,
   "metadata": {},
   "outputs": [
    {
     "data": {
      "text/plain": [
       "-2.04439"
      ]
     },
     "execution_count": 234,
     "metadata": {},
     "output_type": "execute_result"
    }
   ],
   "source": [
    "around(log2(0.00016 / 0.00066), decimals=5)"
   ]
  },
  {
   "cell_type": "code",
   "execution_count": 3,
   "metadata": {},
   "outputs": [
    {
     "name": "stdout",
     "output_type": "stream",
     "text": [
      "Collecting package metadata (current_repodata.json): done\n",
      "Solving environment: done\n",
      "\n",
      "## Package Plan ##\n",
      "\n",
      "  environment location: /opt/anaconda3\n",
      "\n",
      "  added / updated specs:\n",
      "    - plotly\n",
      "\n",
      "\n",
      "The following NEW packages will be INSTALLED:\n",
      "\n",
      "  plotly             plotly/noarch::plotly-4.12.0-py_0\n",
      "  retrying           pkgs/main/noarch::retrying-1.3.3-py_2\n",
      "\n",
      "The following packages will be UPDATED:\n",
      "\n",
      "  conda                                        4.8.3-py38_0 --> 4.9.1-py38h06a4308_0\n",
      "\n",
      "\n",
      "Preparing transaction: done\n",
      "Verifying transaction: failed\n",
      "\n",
      "EnvironmentNotWritableError: The current user does not have write permissions to the target environment.\n",
      "  environment location: /opt/anaconda3\n",
      "  uid: 1010\n",
      "  gid: 1010\n",
      "\n",
      "\n",
      "\n",
      "Note: you may need to restart the kernel to use updated packages.\n"
     ]
    }
   ],
   "source": [
    "conda install -c plotly plotly"
   ]
  }
 ],
 "metadata": {
  "kernelspec": {
   "display_name": "Python 3",
   "language": "python",
   "name": "python3"
  },
  "language_info": {
   "codemirror_mode": {
    "name": "ipython",
    "version": 3
   },
   "file_extension": ".py",
   "mimetype": "text/x-python",
   "name": "python",
   "nbconvert_exporter": "python",
   "pygments_lexer": "ipython3",
   "version": "3.8.3"
  },
  "latex_envs": {
   "LaTeX_envs_menu_present": true,
   "autoclose": false,
   "autocomplete": true,
   "bibliofile": "biblio.bib",
   "cite_by": "apalike",
   "current_citInitial": 1,
   "eqLabelWithNumbers": true,
   "eqNumInitial": 1,
   "hotkeys": {
    "equation": "Ctrl-E",
    "itemize": "Ctrl-I"
   },
   "labels_anchors": false,
   "latex_user_defs": false,
   "report_style_numbering": false,
   "user_envs_cfg": false
  },
  "toc": {
   "base_numbering": 1,
   "nav_menu": {},
   "number_sections": true,
   "sideBar": true,
   "skip_h1_title": false,
   "title_cell": "Table of Contents",
   "title_sidebar": "Contents",
   "toc_cell": false,
   "toc_position": {},
   "toc_section_display": true,
   "toc_window_display": false
  }
 },
 "nbformat": 4,
 "nbformat_minor": 2
}
